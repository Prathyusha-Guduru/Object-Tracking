{
 "cells": [
  {
   "cell_type": "code",
   "execution_count": 4,
   "metadata": {},
   "outputs": [],
   "source": [
    "import cv2\n",
    "import numpy as np\n",
    "\n",
    "cap = cv2.VideoCapture(0)\n",
    "ret,frame = cap.read()\n",
    "\n",
    "#Detecting Face and setting it as a starting point\n",
    "face_cascade = cv2.CascadeClassifier('../DATA/haarcascades/haarcascade_frontalface_default.xml')\n",
    "face_rects = face_cascade.detectMultiScale(frame)\n",
    "\n",
    "#Convert numpy array to tuple\n",
    "(face_x,face_y,w,h) = tuple(face_rects[0]) \n",
    "track_win = (face_x,face_y,w,h)\n",
    "\n",
    "#Creating a region of interest in hsv color space\n",
    "roi = frame[face_y:face_y+h,face_x:face_x+w]\n",
    "roi_hsv = cv2.cvtColor(roi,cv2.COLOR_BGR2HSV)\n",
    "\n",
    "#Calculating histogram and normalizing the limits as 0 to 255\n",
    "roi_hist= cv2.calcHist([roi_hsv],[0],None,[180],[0,180])\n",
    "roi_hist = cv2.normalize(roi_hist,roi_hist,0,255,cv2.NORM_MINMAX)\n",
    "\n",
    "#Setting Termination Criteria\n",
    "term_crit = (cv2.TERM_CRITERIA_EPS | cv2.TERM_CRITERIA_COUNT,10,1)\n",
    "\n",
    "while True:\n",
    "    ret,frame = cap.read()\n",
    "    if ret == True:\n",
    "        frame_hsv = cv2.cvtColor(frame,cv2.COLOR_BGR2HSV)\n",
    "        \n",
    "        # Calculate the Back Projection based off the roi_hist created earlier\n",
    "        \n",
    "        dst = cv2.calcBackProject([frame_hsv],[0],roi_hist,[0,180],1)\n",
    "        #Tracking the window in the direction of weighted mean with CamShift vector\n",
    "        ret,track_win = cv2.CamShift(dst,track_win,term_crit)\n",
    "        \n",
    "        #ret return rotated rectangle of \n",
    "        pts = cv2.boxPoints(ret)\n",
    "        pts = np.int0(pts)\n",
    "        img = cv2.polylines(frame,[pts],True,(255,255,255),4)\n",
    "        cv2.imshow('Face Detection',img)\n",
    "        \n",
    "        k = cv2.waitKey(1) & 0xff\n",
    "        if k == 27:\n",
    "            break\n",
    "        \n",
    "    else:\n",
    "        break\n",
    "\n",
    "cv2.destroyAllWindows()\n",
    "cap.release()"
   ]
  },
  {
   "cell_type": "code",
   "execution_count": null,
   "metadata": {},
   "outputs": [],
   "source": []
  }
 ],
 "metadata": {
  "kernelspec": {
   "display_name": "Python 3",
   "language": "python",
   "name": "python3"
  },
  "language_info": {
   "codemirror_mode": {
    "name": "ipython",
    "version": 3
   },
   "file_extension": ".py",
   "mimetype": "text/x-python",
   "name": "python",
   "nbconvert_exporter": "python",
   "pygments_lexer": "ipython3",
   "version": "3.7.3"
  }
 },
 "nbformat": 4,
 "nbformat_minor": 4
}
